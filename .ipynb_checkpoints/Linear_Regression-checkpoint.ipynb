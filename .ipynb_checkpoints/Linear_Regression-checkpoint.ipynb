{
 "cells": [
  {
   "cell_type": "code",
   "execution_count": 1,
   "metadata": {},
   "outputs": [],
   "source": [
    "#stolen from Noah's main\n",
    "\n",
    "import numpy as np\n",
    "import matplotlib.pyplot as plt\n"
   ]
  },
  {
   "cell_type": "code",
   "execution_count": 2,
   "metadata": {},
   "outputs": [
    {
     "data": {
      "text/plain": [
       "(10, 2)"
      ]
     },
     "execution_count": 2,
     "metadata": {},
     "output_type": "execute_result"
    }
   ],
   "source": [
    "data=np.array([\n",
    "[0.86,2.49],\n",
    " [ 0.09,0.83],\n",
    " [ -0.85,-0.25],\n",
    " [ 0.87,3.10],\n",
    " [ -0.44,0.87],\n",
    " [ -0.43,0.02],\n",
    " [ -1.1,-0.12],\n",
    " [ 0.40,1.81],\n",
    " [ -0.96,-0.83],\n",
    " [ 0.17,0.43]])\n",
    "\n",
    "Y=data[:,1]\n",
    "\n",
    "X=np.array([np.ones(Y.shape),data[:,0]])\n",
    "X=np.transpose(X)\n",
    "Y=np.array([Y]).T\n",
    "X.shape"
   ]
  },
  {
   "cell_type": "code",
   "execution_count": 3,
   "metadata": {},
   "outputs": [
    {
     "name": "stdout",
     "output_type": "stream",
     "text": [
      "[[1.05881341]\n",
      " [1.61016842]]\n"
     ]
    }
   ],
   "source": [
    "def lin_reg_exact(X, Y):\n",
    "    \"\"\"Computes the optimal weights for linear regression.\n",
    "        Returns weights vector w, N by P, where N number features, P number variables to predict\n",
    "        X: M by N matrix where M is number data points\n",
    "        Y: M by P matrix\"\"\"\n",
    "\n",
    "    XtX=np.matmul(np.transpose(X),X)\n",
    "    w=np.matmul(np.linalg.inv(XtX),np.transpose(X))\n",
    "    w=np.matmul(w, Y)\n",
    "    return w\n",
    "\n",
    "w_exact=lin_reg_exact(X,Y)\n",
    "    \n",
    "    \n",
    "print(w_exact)"
   ]
  },
  {
   "cell_type": "code",
   "execution_count": 4,
   "metadata": {},
   "outputs": [
    {
     "data": {
      "text/plain": [
       "[<matplotlib.lines.Line2D at 0x7f4a575cd5c0>]"
      ]
     },
     "execution_count": 4,
     "metadata": {},
     "output_type": "execute_result"
    },
    {
     "data": {
      "image/png": "[encoded data removed]",
      "text/plain": [
       "<Figure size 432x288 with 1 Axes>"
      ]
     },
     "metadata": {
      "needs_background": "light"
     },
     "output_type": "display_data"
    }
   ],
   "source": [
    "w=w_exact\n",
    "plt.figure()\n",
    "plt.scatter(X[:,1],Y)\n",
    "plt.plot(X[:,1], np.matmul(X,w))"
   ]
  },
  {
   "cell_type": "code",
   "execution_count": 5,
   "metadata": {},
   "outputs": [
    {
     "data": {
      "text/plain": [
       "2"
      ]
     },
     "execution_count": 5,
     "metadata": {},
     "output_type": "execute_result"
    }
   ],
   "source": [
    "X.shape[1]"
   ]
  },
  {
   "cell_type": "code",
   "execution_count": 6,
   "metadata": {},
   "outputs": [],
   "source": [
    "def lin_reg_gradient_descent(X,Y,step_size, max_iter):\n",
    "    XtX=self.XtX\n",
    "    w=np.random.rand(self.X.shape[1],self.Y.shape[1])\n",
    "    max_iter=20\n",
    "\n",
    "    grad_norms=np.ones([max_iter+1,1])\n",
    "    \n",
    "    for iter in range(max_iter):\n",
    "        w=w-step_size(iter+1)*grad_e(w, XtX)\n",
    "        #print(w)\n",
    "        grad_norms[iter+1]=np.linalg.norm(grad_e(w,XtX))\n",
    "        \n",
    "    return w, grad_norms\n",
    "\n",
    "#step_size=lambda k: 1/k**2\n",
    "#max_iter=20\n",
    "#w, grad_norms=lin_reg_gradient_descent(X, Y, step_size, max_iter)\n",
    "class LinearRegression:\n",
    "    \n",
    "    \"\"\"LinearRegression object. \n",
    "    Attributes:\n",
    "        X: Input data. M by N numpy array. M is number of data points, N number features\n",
    "        Y: Output data. M by P numpy array. M number data points, P number of variables to predict. \n",
    "        XtX: X transpose times X. Expensive to compute. Computed once on initialization, then reused.  \n",
    "    Notes: Y has to have two dimensions for the matrix multiplications to work. \n",
    "                So, e.g. not (10,) but rather need (10,1)\n",
    "    \"\"\"\n",
    "    def __init__(self, X, Y):\n",
    "        self.XtX=np.matmul(np.transpose(X),X)\n",
    "        self.X=X;\n",
    "        self.Y=Y;\n",
    "    def grad_e(self, w):\n",
    "        \"\"\"Gradient of weights with respect to error. Returns N by 1 column matrix.\"\"\"\n",
    "        return 2*(np.matmul(self.XtX, w)-np.matmul(np.transpose(self.X),self.Y))\n",
    "    def exact_solution(self):\n",
    "        \"\"\"Computes the optimal weights for linear regression.\n",
    "            Returns weights vector w, N by P, where N number features, P number variables to predict\n",
    "            X: M by N matrix where M is number data points\n",
    "            Y: M by P matrix\"\"\"\n",
    "        w=np.matmul(np.linalg.inv(self.XtX),np.transpose(self.X))\n",
    "        w=np.matmul(w, self.Y)\n",
    "        return w\n",
    "    def gradient_descent(self, step_size, tol, max_iter):\n",
    "        \"\"\" Gradient descent, takes step_size (a function! that returns step size vs iteration)\n",
    "        and the maximum number of iterations.\"\"\"\n",
    "        conv_flag=0\n",
    "        w=np.random.rand(self.X.shape[1],self.Y.shape[1])\n",
    "        grad_norms=np.ones([max_iter+1,1])\n",
    "        for iter in range(max_iter):\n",
    "            temp=w;\n",
    "            w=w-step_size(iter+1)*self.grad_e(w)\n",
    "            grad_norms[iter+1]=np.linalg.norm(self.grad_e(w))\n",
    "            if np.linalg.norm(w-temp)<tol:\n",
    "                conv_flag=1\n",
    "                break\n",
    "            \n",
    "        return w, grad_norms, conv_flag\n",
    "    \n",
    "\n",
    "myLinReg=LinearRegression(X, Y)\n",
    "w=myLinReg.exact_solution()\n",
    "\n",
    "step_size=lambda k: 1/k**2\n",
    "max_iter=10\n",
    "tol=0.01\n",
    "\n",
    "w, grad_norms, conv_flag=myLinReg.gradient_descent(step_size, 0.01, max_iter)\n"
   ]
  },
  {
   "cell_type": "code",
   "execution_count": 7,
   "metadata": {},
   "outputs": [
    {
     "data": {
      "text/plain": [
       "[<matplotlib.lines.Line2D at 0x7f4a56e0cb70>]"
      ]
     },
     "execution_count": 7,
     "metadata": {},
     "output_type": "execute_result"
    },
    {
     "data": {
      "image/png": "[encoded data removed]",
      "text/plain": [
       "<Figure size 432x288 with 1 Axes>"
      ]
     },
     "metadata": {
      "needs_background": "light"
     },
     "output_type": "display_data"
    },
    {
     "data": {
      "image/png": "[encoded data removed]",
      "text/plain": [
       "<Figure size 432x288 with 1 Axes>"
      ]
     },
     "metadata": {
      "needs_background": "light"
     },
     "output_type": "display_data"
    }
   ],
   "source": [
    "plt.figure()\n",
    "plt.plot(grad_norms)\n",
    "\n",
    "plt.figure()\n",
    "plt.scatter(X[:,1],Y)\n",
    "plt.plot(X[:,1], np.matmul(X,w))"
   ]
  },
  {
   "cell_type": "code",
   "execution_count": null,
   "metadata": {},
   "outputs": [],
   "source": []
  }
 ],
 "metadata": {
  "kernelspec": {
   "display_name": "Python 3",
   "language": "python",
   "name": "python3"
  },
  "language_info": {
   "codemirror_mode": {
    "name": "ipython",
    "version": 3
   },
   "file_extension": ".py",
   "mimetype": "text/x-python",
   "name": "python",
   "nbconvert_exporter": "python",
   "pygments_lexer": "ipython3",
   "version": "3.7.2"
  }
 },
 "nbformat": 4,
 "nbformat_minor": 2
}
